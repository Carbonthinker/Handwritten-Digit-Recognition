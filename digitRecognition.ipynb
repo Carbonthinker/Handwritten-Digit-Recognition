{
 "cells": [
  {
   "cell_type": "code",
   "execution_count": null,
   "id": "8b028129",
   "metadata": {},
   "outputs": [],
   "source": [
    "import numpy as np\n",
    "import pandas as pd\n",
    "from tensorflow.keras.utils import to_categorical\n"
   ]
  },
  {
   "cell_type": "markdown",
   "id": "aae95ff6",
   "metadata": {},
   "source": [
    "## Import train data using pandas"
   ]
  },
  {
   "cell_type": "code",
   "execution_count": null,
   "id": "91ddc417",
   "metadata": {},
   "outputs": [
    {
     "name": "stdout",
     "output_type": "stream",
     "text": [
      "Shape of train data :  (42000, 785)\n"
     ]
    }
   ],
   "source": [
    "t_data = pd.read_csv(\"Train.csv\")\n",
    "print(\"Shape of train data : \", t_data.shape)\n",
    "\n",
    "y = t_data.iloc[:, 0]\n",
    "X = t_data.iloc[:, 1:]"
   ]
  },
  {
   "cell_type": "markdown",
   "id": "99c64779",
   "metadata": {},
   "source": [
    "## Prepocess the data \n",
    "- Ensures X is a pandas DataFrame instance\n",
    "- Convert pixel values to numeric\n",
    "- Replace empty fields with 0\n",
    "- Normalize values (for better model learning)\n"
   ]
  },
  {
   "cell_type": "code",
   "execution_count": 21,
   "id": "a0b5cee4",
   "metadata": {},
   "outputs": [
    {
     "name": "stdout",
     "output_type": "stream",
     "text": [
      "Shape of X after reshaping: (42000, 28, 28, 1)\n"
     ]
    }
   ],
   "source": [
    "if not isinstance(X, pd.DataFrame):\n",
    "    X = pd.DataFrame(X)\n",
    "\n",
    "X = X.apply(pd.to_numeric, errors=\"coerce\")\n",
    "X = X.fillna(0)\n",
    "X = X.values / 255.0\n",
    "X = X.reshape(-1, 28, 28, 1)\n",
    "print(\"Shape of X after reshaping:\", X.shape)\n"
   ]
  },
  {
   "cell_type": "markdown",
   "id": "430826cd",
   "metadata": {},
   "source": [
    "## One-Hot encode the labels"
   ]
  },
  {
   "cell_type": "code",
   "execution_count": 22,
   "id": "bbc595b2",
   "metadata": {},
   "outputs": [
    {
     "ename": "NameError",
     "evalue": "name 'to_categorical' is not defined",
     "output_type": "error",
     "traceback": [
      "\u001b[31m---------------------------------------------------------------------------\u001b[39m",
      "\u001b[31mNameError\u001b[39m                                 Traceback (most recent call last)",
      "\u001b[36mCell\u001b[39m\u001b[36m \u001b[39m\u001b[32mIn[22]\u001b[39m\u001b[32m, line 1\u001b[39m\n\u001b[32m----> \u001b[39m\u001b[32m1\u001b[39m y = \u001b[43mto_categorical\u001b[49m(y, num_classes=\u001b[32m10\u001b[39m)\n\u001b[32m      2\u001b[39m \u001b[38;5;28mprint\u001b[39m(\u001b[33m\"\u001b[39m\u001b[33mShape of y after one-hot encoding:\u001b[39m\u001b[33m\"\u001b[39m, y.shape)\n",
      "\u001b[31mNameError\u001b[39m: name 'to_categorical' is not defined"
     ]
    }
   ],
   "source": [
    "y = to_categorical(y, num_classes=10)\n",
    "print(\"Shape of y after one-hot encoding:\", y.shape)"
   ]
  }
 ],
 "metadata": {
  "kernelspec": {
   "display_name": ".venv",
   "language": "python",
   "name": "python3"
  },
  "language_info": {
   "codemirror_mode": {
    "name": "ipython",
    "version": 3
   },
   "file_extension": ".py",
   "mimetype": "text/x-python",
   "name": "python",
   "nbconvert_exporter": "python",
   "pygments_lexer": "ipython3",
   "version": "3.13.3"
  }
 },
 "nbformat": 4,
 "nbformat_minor": 5
}
