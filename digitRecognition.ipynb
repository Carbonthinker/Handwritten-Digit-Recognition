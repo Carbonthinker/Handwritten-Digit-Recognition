{
 "cells": [
  {
   "cell_type": "code",
   "execution_count": 10,
   "id": "8b028129",
   "metadata": {},
   "outputs": [],
   "source": [
    "import numpy as np\n",
    "import pandas as pd\n",
    "\n"
   ]
  },
  {
   "cell_type": "markdown",
   "id": "aae95ff6",
   "metadata": {},
   "source": [
    "## Import train data using pandas"
   ]
  },
  {
   "cell_type": "code",
   "execution_count": null,
   "id": "91ddc417",
   "metadata": {},
   "outputs": [
    {
     "name": "stdout",
     "output_type": "stream",
     "text": [
      "Shape of train data :  (42000, 785)\n"
     ]
    }
   ],
   "source": [
    "t_data = pd.read_csv(\"Train.csv\")\n",
    "print(\"Shape of train data : \", t_data.shape)\n",
    "\n",
    "y = t_data.iloc[:, 0]\n",
    "X = t_data.iloc[:, 1:]"
   ]
  },
  {
   "cell_type": "markdown",
   "id": "99c64779",
   "metadata": {},
   "source": [
    "## Prepocess the data \n",
    "- Ensures X is a pandas DataFrame instance\n",
    "- Replace empty fields with 0\n",
    "- Convert pixel values to numeric"
   ]
  },
  {
   "cell_type": "code",
   "execution_count": null,
   "id": "a0b5cee4",
   "metadata": {},
   "outputs": [],
   "source": [
    "if not isinstance(X, pd.DataFrame):\n",
    "    X = pd.DataFrame(X)\n",
    "    \n",
    "X.fillna(0)\n"
   ]
  }
 ],
 "metadata": {
  "kernelspec": {
   "display_name": ".venv",
   "language": "python",
   "name": "python3"
  },
  "language_info": {
   "codemirror_mode": {
    "name": "ipython",
    "version": 3
   },
   "file_extension": ".py",
   "mimetype": "text/x-python",
   "name": "python",
   "nbconvert_exporter": "python",
   "pygments_lexer": "ipython3",
   "version": "3.13.3"
  }
 },
 "nbformat": 4,
 "nbformat_minor": 5
}
